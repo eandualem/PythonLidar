{
 "cells": [
  {
   "cell_type": "markdown",
   "source": [
    "# Point cloud Transfromation with PythonLidar"
   ],
   "metadata": {}
  },
  {
   "cell_type": "markdown",
   "source": [
    "## Imports"
   ],
   "metadata": {}
  },
  {
   "cell_type": "code",
   "execution_count": 2,
   "source": [
    "import pickle\n",
    "import warnings\n",
    "import numpy as np\n",
    "import pandas as pd\n",
    "import seaborn as sns\n",
    "import matplotlib.pyplot as plt\n",
    "from shapely.geometry import Point, LineString, Polygon"
   ],
   "outputs": [],
   "metadata": {}
  },
  {
   "cell_type": "code",
   "execution_count": 3,
   "source": [
    "sys.path.append(os.path.abspath(os.path.join('../scripts')))"
   ],
   "outputs": [],
   "metadata": {}
  },
  {
   "cell_type": "code",
   "execution_count": 4,
   "source": [
    "from python_lidar import PythonLidar\n",
    "pl = PythonLidar(epsg=4326)"
   ],
   "outputs": [
    {
     "output_type": "stream",
     "name": "stdout",
     "text": [
      "2021-08-22 21:56:50,245 — FileHandler — INFO — usgs_3dep_metadata read successfully\n"
     ]
    }
   ],
   "metadata": {}
  },
  {
   "cell_type": "code",
   "execution_count": 8,
   "source": [
    "gpd = pickle.load(open(\"../data/pickle/filename.pickle\", \"rb\"))\n",
    "df = gpd[0]['geo_data'].copy()\n",
    "df"
   ],
   "outputs": [
    {
     "output_type": "execute_result",
     "data": {
      "text/plain": [
       "        elevation                    geometry\n",
       "0          317.59  POINT (-93.74864 41.92142)\n",
       "1          317.42  POINT (-93.74863 41.92142)\n",
       "2          317.27  POINT (-93.74862 41.92142)\n",
       "3          317.28  POINT (-93.74865 41.92142)\n",
       "4          317.25  POINT (-93.74867 41.92142)\n",
       "...           ...                         ...\n",
       "403326     317.77  POINT (-93.75259 41.91930)\n",
       "403327     313.97  POINT (-93.74782 41.91812)\n",
       "403328     315.01  POINT (-93.74940 41.91812)\n",
       "403329     315.62  POINT (-93.75100 41.91812)\n",
       "403330     316.16  POINT (-93.75258 41.91812)\n",
       "\n",
       "[403331 rows x 2 columns]"
      ],
      "text/html": [
       "<div>\n",
       "<style scoped>\n",
       "    .dataframe tbody tr th:only-of-type {\n",
       "        vertical-align: middle;\n",
       "    }\n",
       "\n",
       "    .dataframe tbody tr th {\n",
       "        vertical-align: top;\n",
       "    }\n",
       "\n",
       "    .dataframe thead th {\n",
       "        text-align: right;\n",
       "    }\n",
       "</style>\n",
       "<table border=\"1\" class=\"dataframe\">\n",
       "  <thead>\n",
       "    <tr style=\"text-align: right;\">\n",
       "      <th></th>\n",
       "      <th>elevation</th>\n",
       "      <th>geometry</th>\n",
       "    </tr>\n",
       "  </thead>\n",
       "  <tbody>\n",
       "    <tr>\n",
       "      <th>0</th>\n",
       "      <td>317.59</td>\n",
       "      <td>POINT (-93.74864 41.92142)</td>\n",
       "    </tr>\n",
       "    <tr>\n",
       "      <th>1</th>\n",
       "      <td>317.42</td>\n",
       "      <td>POINT (-93.74863 41.92142)</td>\n",
       "    </tr>\n",
       "    <tr>\n",
       "      <th>2</th>\n",
       "      <td>317.27</td>\n",
       "      <td>POINT (-93.74862 41.92142)</td>\n",
       "    </tr>\n",
       "    <tr>\n",
       "      <th>3</th>\n",
       "      <td>317.28</td>\n",
       "      <td>POINT (-93.74865 41.92142)</td>\n",
       "    </tr>\n",
       "    <tr>\n",
       "      <th>4</th>\n",
       "      <td>317.25</td>\n",
       "      <td>POINT (-93.74867 41.92142)</td>\n",
       "    </tr>\n",
       "    <tr>\n",
       "      <th>...</th>\n",
       "      <td>...</td>\n",
       "      <td>...</td>\n",
       "    </tr>\n",
       "    <tr>\n",
       "      <th>403326</th>\n",
       "      <td>317.77</td>\n",
       "      <td>POINT (-93.75259 41.91930)</td>\n",
       "    </tr>\n",
       "    <tr>\n",
       "      <th>403327</th>\n",
       "      <td>313.97</td>\n",
       "      <td>POINT (-93.74782 41.91812)</td>\n",
       "    </tr>\n",
       "    <tr>\n",
       "      <th>403328</th>\n",
       "      <td>315.01</td>\n",
       "      <td>POINT (-93.74940 41.91812)</td>\n",
       "    </tr>\n",
       "    <tr>\n",
       "      <th>403329</th>\n",
       "      <td>315.62</td>\n",
       "      <td>POINT (-93.75100 41.91812)</td>\n",
       "    </tr>\n",
       "    <tr>\n",
       "      <th>403330</th>\n",
       "      <td>316.16</td>\n",
       "      <td>POINT (-93.75258 41.91812)</td>\n",
       "    </tr>\n",
       "  </tbody>\n",
       "</table>\n",
       "<p>403331 rows × 2 columns</p>\n",
       "</div>"
      ]
     },
     "metadata": {},
     "execution_count": 8
    }
   ],
   "metadata": {}
  },
  {
   "cell_type": "code",
   "execution_count": null,
   "source": [],
   "outputs": [],
   "metadata": {}
  }
 ],
 "metadata": {
  "orig_nbformat": 4,
  "language_info": {
   "name": "python",
   "version": "3.8.11",
   "mimetype": "text/x-python",
   "codemirror_mode": {
    "name": "ipython",
    "version": 3
   },
   "pygments_lexer": "ipython3",
   "nbconvert_exporter": "python",
   "file_extension": ".py"
  },
  "kernelspec": {
   "name": "python3",
   "display_name": "Python 3.8.11 64-bit ('python-lidar2': conda)"
  },
  "interpreter": {
   "hash": "69c0d296d865c9e09f8f8fa8b3fd65ac30d3433b287b20f31bd27b29361e3927"
  }
 },
 "nbformat": 4,
 "nbformat_minor": 2
}