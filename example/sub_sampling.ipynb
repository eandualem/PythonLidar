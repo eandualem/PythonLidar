{
 "cells": [
  {
   "cell_type": "markdown",
   "source": [
    "# Point cloud SubSampling with PythonLidar"
   ],
   "metadata": {}
  },
  {
   "cell_type": "markdown",
   "source": [
    "## Imports"
   ],
   "metadata": {}
  },
  {
   "cell_type": "code",
   "execution_count": 1,
   "source": [
    "import pickle\n",
    "import warnings\n",
    "import numpy as np\n",
    "import pandas as pd\n",
    "import seaborn as sns\n",
    "import matplotlib.pyplot as plt\n",
    "from shapely.geometry import Point, LineString, Polygon"
   ],
   "outputs": [],
   "metadata": {}
  },
  {
   "cell_type": "code",
   "execution_count": 2,
   "source": [
    "sys.path.append(os.path.abspath(os.path.join('../scripts')))"
   ],
   "outputs": [],
   "metadata": {}
  },
  {
   "cell_type": "code",
   "execution_count": 3,
   "source": [
    "from python_lidar import PythonLidar\n",
    "pl = PythonLidar(epsg=4326)"
   ],
   "outputs": [
    {
     "output_type": "stream",
     "name": "stdout",
     "text": [
      "2021-08-23 12:17:02,700 — FileHandler — INFO — usgs_3dep_metadata read successfully\n"
     ]
    }
   ],
   "metadata": {}
  },
  {
   "cell_type": "markdown",
   "source": [
    "## Fetch USGS 3DEP Lidar data"
   ],
   "metadata": {}
  },
  {
   "cell_type": "code",
   "execution_count": 4,
   "source": [
    "gpd = pickle.load(open(\"../data/pickle/filename.pickle\", \"rb\"))\n",
    "df = gpd[0]['geo_data'].copy()\n",
    "df"
   ],
   "outputs": [],
   "metadata": {}
  },
  {
   "cell_type": "code",
   "execution_count": null,
   "source": [
    "sub_sampler = pl.get_sub_sampler(32643, df)\n",
    "sub_sampler.df"
   ],
   "outputs": [],
   "metadata": {}
  },
  {
   "cell_type": "code",
   "execution_count": null,
   "source": [
    "sample_df = sub_sampler.decimation(100)\n",
    "sample_df"
   ],
   "outputs": [],
   "metadata": {}
  },
  {
   "cell_type": "code",
   "execution_count": null,
   "source": [
    "vis = pl.get_renderer(sample_df)\n",
    "vis.plot_heatmap(\"IA_FullStat\")"
   ],
   "outputs": [],
   "metadata": {}
  },
  {
   "cell_type": "code",
   "execution_count": null,
   "source": [
    "vis.render_3d()"
   ],
   "outputs": [],
   "metadata": {}
  },
  {
   "cell_type": "code",
   "execution_count": null,
   "source": [
    "sample_df = sub_sampler.grid_barycenter(10)\n",
    "sample_df"
   ],
   "outputs": [],
   "metadata": {}
  },
  {
   "cell_type": "code",
   "execution_count": null,
   "source": [
    "vis = pl.get_renderer(sample_df)\n",
    "vis.plot_heatmap(\"IA_FullStat\")"
   ],
   "outputs": [],
   "metadata": {}
  },
  {
   "cell_type": "code",
   "execution_count": null,
   "source": [
    "vis.render_3d()"
   ],
   "outputs": [],
   "metadata": {}
  },
  {
   "cell_type": "code",
   "execution_count": null,
   "source": [
    "sample_df = sub_sampler.grid_candidate_center(10)\n",
    "sample_df"
   ],
   "outputs": [],
   "metadata": {}
  },
  {
   "cell_type": "code",
   "execution_count": null,
   "source": [
    "vis = pl.get_renderer(sample_df)\n",
    "vis.plot_heatmap(\"IA_FullStat\")\n"
   ],
   "outputs": [],
   "metadata": {}
  },
  {
   "cell_type": "code",
   "execution_count": null,
   "source": [
    "vis.render_3d()"
   ],
   "outputs": [],
   "metadata": {}
  }
 ],
 "metadata": {
  "orig_nbformat": 4,
  "language_info": {
   "name": "python",
   "version": "3.8.11",
   "mimetype": "text/x-python",
   "codemirror_mode": {
    "name": "ipython",
    "version": 3
   },
   "pygments_lexer": "ipython3",
   "nbconvert_exporter": "python",
   "file_extension": ".py"
  },
  "kernelspec": {
   "name": "python3",
   "display_name": "Python 3.8.11 64-bit ('python-lidar2': conda)"
  },
  "interpreter": {
   "hash": "69c0d296d865c9e09f8f8fa8b3fd65ac30d3433b287b20f31bd27b29361e3927"
  }
 },
 "nbformat": 4,
 "nbformat_minor": 2
}